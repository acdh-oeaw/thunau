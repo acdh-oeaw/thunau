{
 "cells": [
  {
   "cell_type": "code",
   "execution_count": 1,
   "metadata": {
    "collapsed": true
   },
   "outputs": [],
   "source": [
    "import pandas as pd\n",
    "from dateutil import parser\n",
    "from arche.helpers import path2cols"
   ]
  },
  {
   "cell_type": "code",
   "execution_count": 2,
   "metadata": {
    "collapsed": true
   },
   "outputs": [],
   "source": [
    "file = \"documents/data/export.xlsx\""
   ]
  },
  {
   "cell_type": "code",
   "execution_count": 3,
   "metadata": {
    "collapsed": true
   },
   "outputs": [],
   "source": [
    "df = pd.read_excel(file)"
   ]
  },
  {
   "cell_type": "code",
   "execution_count": 4,
   "metadata": {},
   "outputs": [],
   "source": [
    "troubles = []\n",
    "for index, row in df.iterrows():\n",
    "    doc, _ = Document.objects.get_or_create(legacy_id=row['ID'])\n",
    "    doc.filename = row['Dateiname']\n",
    "    doc.entry_order = row['Ordnungskriterium/Eingabe']\n",
    "    vocabs_media, _ = SkosConcept.objects.get_or_create(pref_label=row['Medium'])\n",
    "    vocabs_media_scheme, _ = SkosConceptScheme.objects.get_or_create(dc_title='Medium')\n",
    "    vocabs_media.scheme.set([vocabs_media_scheme])\n",
    "    vocabs_media.save()\n",
    "    doc.medium = vocabs_media\n",
    "    vocabs_analogformat, _ = SkosConcept.objects.get_or_create(pref_label=row['Analoges Format'])\n",
    "    vocabs_analogformat_scheme, _ = SkosConceptScheme.objects.get_or_create(dc_title='Analoges Format')\n",
    "    vocabs_analogformat.scheme.set([vocabs_analogformat_scheme])\n",
    "    vocabs_analogformat.save()\n",
    "    doc.analogue_format = vocabs_analogformat\n",
    "    try:\n",
    "        names = row['written Autor'].split(';')\n",
    "    except:\n",
    "        names = row['written Autor']\n",
    "    try:\n",
    "        for x in names:\n",
    "            author, _ = Person.objects.get_or_create(written_name=x)\n",
    "            doc.author.add(author)\n",
    "            doc.save()\n",
    "    except:\n",
    "        troubles.append({'id': row['ID'], 'troublefield': 'Autor', 'value': row['written Autor']})\n",
    "    \n",
    "    institution, _ = Institution.objects.get_or_create(written_name=row['Institution'])\n",
    "    doc.institution.add(institution)\n",
    "    \n",
    "    doc.date_analogue = row['Analoges Datum']\n",
    "    try:\n",
    "        doc.date_digitization = parser.parse(row['Datum der Digitalisierung'])\n",
    "    except:\n",
    "        troubles.append({'id': row['ID'], 'troublefield': row['Datum der Digitalisierung']})\n",
    "    vocabs_digitalformat, _ = SkosConcept.objects.get_or_create(pref_label=row['Speicherformat'])\n",
    "    vocabs_digitalformat_scheme, _ = SkosConceptScheme.objects.get_or_create(dc_title='Ordnungskriterium/Eingabe')\n",
    "    vocabs_digitalformat.scheme.set = vocabs_digitalformat_scheme\n",
    "    vocabs_digitalformat.save()\n",
    "    doc.digital_format = vocabs_digitalformat\n",
    "    doc.note = row['Anmerkung']\n",
    "    doc.content = row['Inhalt']\n",
    "    vocabs_group, _ = SkosConcept.objects.get_or_create(pref_label=row['Gruppe'])\n",
    "    vocabs_group_scheme, _ = SkosConceptScheme.objects.get_or_create(dc_title='Gruppe')\n",
    "    vocabs_group.scheme.set([vocabs_group_scheme])\n",
    "    vocabs_group.save()\n",
    "    doc.topic_group = vocabs_group\n",
    "    doc.combination = row['Kombination']\n",
    "    doc.location_id = row['Fundnummer in FDB']\n",
    "    temp_place, _ = Place.objects.get_or_create(name=row['KG/Areal'])\n",
    "    doc.place_of_origin = temp_place\n",
    "    doc.location_digitized_object = row['Aufbewahrung Datei']\n",
    "    doc.location_analogue = row['Standort analog']\n",
    "    curat_name = row['Bearbeiter Digitalisierung']\n",
    "    temp_curator, _ = Person.objects.get_or_create(written_name=curat_name)\n",
    "    temp_curator.save()\n",
    "    doc.curator = temp_curator\n",
    "    doc.filesize = row['Dateigröße KB']\n",
    "    temp_dig_inst, _ = Institution.objects.get_or_create(written_name=row['Ort der Digitalisierung'])\n",
    "    doc.place_digizization = temp_dig_inst\n",
    "    doc.path = row['OREA_Doku_Plattform Thunau am Kamp_Dateipfad']\n",
    "    cols = path2cols(row['OREA_Doku_Plattform Thunau am Kamp_Dateipfad'])\n",
    "    doc.in_collection = cols[0]\n",
    "    doc.amendments = row['Ergänzungen']\n",
    "    doc.save()\n",
    "    doc.path = row['OREA_Doku_Plattform Thunau am Kamp_Dateipfad']"
   ]
  },
  {
   "cell_type": "code",
   "execution_count": null,
   "metadata": {
    "collapsed": true
   },
   "outputs": [],
   "source": [
    "import json"
   ]
  },
  {
   "cell_type": "code",
   "execution_count": null,
   "metadata": {
    "collapsed": true
   },
   "outputs": [],
   "source": [
    "with open('troubles.json', 'w') as fp:\n",
    "    json.dump(troubles, fp)"
   ]
  },
  {
   "cell_type": "code",
   "execution_count": null,
   "metadata": {},
   "outputs": [],
   "source": [
    "Document.objects.all().delete()"
   ]
  },
  {
   "cell_type": "code",
   "execution_count": null,
   "metadata": {
    "collapsed": true
   },
   "outputs": [],
   "source": []
  }
 ],
 "metadata": {
  "kernelspec": {
   "display_name": "Django Shell-Plus",
   "language": "python",
   "name": "django_extensions"
  },
  "language_info": {
   "codemirror_mode": {
    "name": "ipython",
    "version": 3
   },
   "file_extension": ".py",
   "mimetype": "text/x-python",
   "name": "python",
   "nbconvert_exporter": "python",
   "pygments_lexer": "ipython3",
   "version": "3.6.1"
  }
 },
 "nbformat": 4,
 "nbformat_minor": 2
}
