{
 "cells": [
  {
   "cell_type": "code",
   "execution_count": 1,
   "metadata": {
    "collapsed": true
   },
   "outputs": [],
   "source": [
    "import pandas as pd\n",
    "from dateutil import parser\n",
    "from arche.helpers import path2cols, CollectionBuilder"
   ]
  },
  {
   "cell_type": "code",
   "execution_count": 2,
   "metadata": {
    "collapsed": true
   },
   "outputs": [],
   "source": [
    "file = \"documents/data/thunau_sample_data.xlsx\"\n",
    "prefix = \"https://id.acdh.oeaw.ac.at/thunau/top-collection\""
   ]
  },
  {
   "cell_type": "code",
   "execution_count": 3,
   "metadata": {
    "collapsed": true
   },
   "outputs": [],
   "source": [
    "df = pd.read_excel(file)"
   ]
  },
  {
   "cell_type": "code",
   "execution_count": 4,
   "metadata": {},
   "outputs": [
    {
     "name": "stdout",
     "output_type": "stream",
     "text": [
      "Schnittübersicht 1989\n"
     ]
    }
   ],
   "source": [
    "troubles = []\n",
    "for index, row in df.iterrows():\n",
    "    doc, _ = Document.objects.get_or_create(legacy_id=row['ID'])\n",
    "    doc.filename = row['Dateiname']\n",
    "    doc.entry_order = row['Ordnungskriterium/Eingabe']\n",
    "    vocabs_media, _ = SkosConcept.objects.get_or_create(pref_label=row['Medium'])\n",
    "    vocabs_media_scheme, _ = SkosConceptScheme.objects.get_or_create(dc_title='Medium')\n",
    "    vocabs_media.scheme.set([vocabs_media_scheme])\n",
    "    vocabs_media.save()\n",
    "    doc.medium = vocabs_media\n",
    "    vocabs_analogformat, _ = SkosConcept.objects.get_or_create(pref_label=row['Analoges Format'])\n",
    "    vocabs_analogformat_scheme, _ = SkosConceptScheme.objects.get_or_create(dc_title='Analoges Format')\n",
    "    vocabs_analogformat.scheme.set([vocabs_analogformat_scheme])\n",
    "    vocabs_analogformat.save()\n",
    "    doc.analogue_format = vocabs_analogformat\n",
    "    try:\n",
    "        names = row['written Autor'].split(';')\n",
    "    except:\n",
    "        names = row['written Autor']\n",
    "    try:\n",
    "        for x in names:\n",
    "            author, _ = Person.objects.get_or_create(written_name=x)\n",
    "            doc.author.add(author)\n",
    "            doc.save()\n",
    "    except:\n",
    "        troubles.append({'id': row['ID'], 'troublefield': 'Autor', 'value': row['written Autor']})\n",
    "    \n",
    "    institution, _ = Institution.objects.get_or_create(written_name=row['Institution'])\n",
    "    doc.institution.add(institution)\n",
    "    doc.date_analogue = row['written Datum']\n",
    "    try:\n",
    "        doc.date_digitization = row['Datum der Digitalisierung']\n",
    "    except:\n",
    "        troubles.append({'id': row['ID'], 'troublefield': row['Datum der Digitalisierung']})\n",
    "    vocabs_digital_format, _ = SkosConcept.objects.get_or_create(pref_label=row['Speicherformat'])\n",
    "    vocabs_digital_format_scheme, _ = SkosConceptScheme.objects.get_or_create(dc_title='Speicherformat')\n",
    "    vocabs_digital_format.scheme.set([vocabs_digital_format_scheme])\n",
    "    vocabs_digital_format.save()\n",
    "    doc.digital_format = vocabs_digital_format\n",
    "    doc.note = row['Anmerkung']\n",
    "    doc.content = row['Inhalt']\n",
    "    vocabs_group, _ = SkosConcept.objects.get_or_create(pref_label=row['Gruppe'])\n",
    "    vocabs_group_scheme, _ = SkosConceptScheme.objects.get_or_create(dc_title='Gruppe')\n",
    "    vocabs_group.scheme.set([vocabs_group_scheme])\n",
    "    vocabs_group.save()\n",
    "    doc.topic_group = vocabs_group\n",
    "    doc.combination = row['Kombination']\n",
    "    doc.location_id = row['Fundnummer in FDB']\n",
    "    temp_place, _ = Place.objects.get_or_create(name=row['KG/Areal'])\n",
    "    doc.place_of_origin = temp_place\n",
    "    doc.location_digitized_object = row['Aufbewahrung Datei']\n",
    "    doc.location_analogue = row['Standort analog']\n",
    "    curat_name = row['Bearbeiter Digitalisierung']\n",
    "    temp_curator, _ = Person.objects.get_or_create(written_name=curat_name)\n",
    "    temp_curator.save()\n",
    "    doc.curator = temp_curator\n",
    "    doc.filesize = row['Dateigröße KB']\n",
    "    temp_dig_inst, _ = Institution.objects.get_or_create(written_name=row['Ort der Digitalisierung'])\n",
    "    doc.place_digizization = temp_dig_inst\n",
    "    doc.path = row['OREA_Doku_Plattform Thunau am Kamp_Dateipfad']\n",
    "    col_builder = CollectionBuilder(row['OREA_Doku_Plattform Thunau am Kamp_Dateipfad'], prefix)\n",
    "    cols = col_builder.make_collections()\n",
    "    doc.in_collection = Collection.objects.get(\n",
    "        has_id=cols[-1]['has_id']\n",
    "    )\n",
    "    doc.amendments = row['Ergänzungen']\n",
    "    try:\n",
    "        doc.save()\n",
    "    except ValueError:\n",
    "        print(doc)\n",
    "    doc.path = row['OREA_Doku_Plattform Thunau am Kamp_Dateipfad']"
   ]
  },
  {
   "cell_type": "code",
   "execution_count": 7,
   "metadata": {
    "collapsed": true
   },
   "outputs": [],
   "source": [
    "# add infos to already created persons"
   ]
  },
  {
   "cell_type": "code",
   "execution_count": 8,
   "metadata": {
    "collapsed": true
   },
   "outputs": [],
   "source": [
    "file = \"documents/data/OREA Liste Personen.xlsx\""
   ]
  },
  {
   "cell_type": "code",
   "execution_count": 9,
   "metadata": {
    "collapsed": true
   },
   "outputs": [],
   "source": [
    "df = pd.read_excel(file)"
   ]
  },
  {
   "cell_type": "code",
   "execution_count": 10,
   "metadata": {
    "collapsed": true
   },
   "outputs": [],
   "source": [
    "for index, row in df.iterrows():\n",
    "    try:\n",
    "        per = Person.objects.get(written_name=row[\"written Autor\"])\n",
    "        gnd = row['nach Normdatei Deutsche Nationalbibliothek']\n",
    "        if isinstance(gnd, str):\n",
    "            per.authority_url = gnd\n",
    "        per.name = row['Nachname']\n",
    "        per.forename = row['Vorname']\n",
    "        per.acad_title= row['Titel/Anrede']\n",
    "        per.comment= row['Kommentare']\n",
    "        inst = row['zugehörige Institution']\n",
    "        try:\n",
    "            if isinstance(inst, str):\n",
    "                temp_inst = Institution.objects.get(written_name=inst)\n",
    "                per.belongs_to_institution = temp_inst\n",
    "        except:\n",
    "            pass\n",
    "        per.save()\n",
    "    except:\n",
    "        pass"
   ]
  },
  {
   "cell_type": "code",
   "execution_count": null,
   "metadata": {
    "collapsed": true
   },
   "outputs": [],
   "source": [
    "Institution.objects.all().delete()"
   ]
  },
  {
   "cell_type": "code",
   "execution_count": null,
   "metadata": {
    "collapsed": true
   },
   "outputs": [],
   "source": [
    "import json"
   ]
  },
  {
   "cell_type": "code",
   "execution_count": null,
   "metadata": {
    "collapsed": true
   },
   "outputs": [],
   "source": [
    "with open('troubles.json', 'w') as fp:\n",
    "    json.dump(troubles, fp)"
   ]
  },
  {
   "cell_type": "code",
   "execution_count": 12,
   "metadata": {},
   "outputs": [
    {
     "data": {
      "text/plain": [
       "(142,\n",
       " {'documents.Document': 37,\n",
       "  'documents.Document_author': 30,\n",
       "  'documents.Document_institution': 38,\n",
       "  'idprovider.IdProvider': 37})"
      ]
     },
     "execution_count": 12,
     "metadata": {},
     "output_type": "execute_result"
    }
   ],
   "source": [
    "Document.objects.all().delete()"
   ]
  },
  {
   "cell_type": "code",
   "execution_count": null,
   "metadata": {
    "collapsed": true
   },
   "outputs": [],
   "source": [
    "# Collection.objects.all().delete()"
   ]
  },
  {
   "cell_type": "code",
   "execution_count": null,
   "metadata": {
    "collapsed": true
   },
   "outputs": [],
   "source": []
  }
 ],
 "metadata": {
  "kernelspec": {
   "display_name": "Django Shell-Plus",
   "language": "python",
   "name": "django_extensions"
  },
  "language_info": {
   "codemirror_mode": {
    "name": "ipython",
    "version": 3
   },
   "file_extension": ".py",
   "mimetype": "text/x-python",
   "name": "python",
   "nbconvert_exporter": "python",
   "pygments_lexer": "ipython3",
   "version": "3.6.1"
  }
 },
 "nbformat": 4,
 "nbformat_minor": 2
}
