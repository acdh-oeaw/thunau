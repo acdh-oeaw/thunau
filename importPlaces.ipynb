{
 "cells": [
  {
   "cell_type": "code",
   "execution_count": 6,
   "metadata": {},
   "outputs": [],
   "source": [
    "import re\n",
    "import requests\n",
    "import json\n",
    "import pandas as pd\n",
    "import rdflib\n",
    "from rdflib.namespace import RDF, FOAF\n",
    "from rdflib import Namespace\n",
    "from places.helper import fetch_coords"
   ]
  },
  {
   "cell_type": "code",
   "execution_count": 7,
   "metadata": {
    "collapsed": true
   },
   "outputs": [],
   "source": [
    "file = \"documents/data/OREA Liste Ort.xlsx\""
   ]
  },
  {
   "cell_type": "code",
   "execution_count": 8,
   "metadata": {},
   "outputs": [],
   "source": [
    "df = pd.read_excel(file)"
   ]
  },
  {
   "cell_type": "code",
   "execution_count": 9,
   "metadata": {},
   "outputs": [],
   "source": [
    "for index, row in df.iterrows():\n",
    "    pl, _ = Place.objects.get_or_create(name=row['Ort'])\n",
    "    altnam = row['weiter Bezeichnungen']\n",
    "    if isinstance(altnam, str):\n",
    "        temp_altn, _ = AlternativeName.objects.get_or_create(name=altnam)\n",
    "        pl.alternative_name.set([temp_altn])\n",
    "    try:\n",
    "        gn = re.findall('\\d+', row['nach Geo Names'] )[0]\n",
    "    except:\n",
    "        gn = None\n",
    "    pl.geonames_id = gn\n",
    "    pl.save()"
   ]
  },
  {
   "cell_type": "code",
   "execution_count": 10,
   "metadata": {
    "collapsed": true
   },
   "outputs": [],
   "source": [
    "for x in Place.objects.filter(lat__isnull=True):\n",
    "    fetch_coords(x)"
   ]
  },
  {
   "cell_type": "code",
   "execution_count": null,
   "metadata": {
    "collapsed": true
   },
   "outputs": [],
   "source": []
  }
 ],
 "metadata": {
  "kernelspec": {
   "display_name": "Django Shell-Plus",
   "language": "python",
   "name": "django_extensions"
  },
  "language_info": {
   "codemirror_mode": {
    "name": "ipython",
    "version": 3
   },
   "file_extension": ".py",
   "mimetype": "text/x-python",
   "name": "python",
   "nbconvert_exporter": "python",
   "pygments_lexer": "ipython3",
   "version": "3.6.1"
  }
 },
 "nbformat": 4,
 "nbformat_minor": 2
}
